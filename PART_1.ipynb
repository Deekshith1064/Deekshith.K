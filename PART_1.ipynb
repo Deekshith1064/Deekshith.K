{
  "nbformat": 4,
  "nbformat_minor": 0,
  "metadata": {
    "colab": {
      "provenance": [],
      "authorship_tag": "ABX9TyN43sSs2/QcZHjSuTnta0+9",
      "include_colab_link": true
    },
    "kernelspec": {
      "name": "python3",
      "display_name": "Python 3"
    },
    "language_info": {
      "name": "python"
    }
  },
  "cells": [
    {
      "cell_type": "markdown",
      "metadata": {
        "id": "view-in-github",
        "colab_type": "text"
      },
      "source": [
        "<a href=\"https://colab.research.google.com/github/Deekshith1064/Deekshith.K/blob/main/PART_1.ipynb\" target=\"_parent\"><img src=\"https://colab.research.google.com/assets/colab-badge.svg\" alt=\"Open In Colab\"/></a>"
      ]
    },
    {
      "cell_type": "markdown",
      "source": [
        "LIST1"
      ],
      "metadata": {
        "id": "4lUTaiVZ0q0B"
      }
    },
    {
      "cell_type": "code",
      "source": [
        "import numpy as np\n",
        "list1=[1,2,3,4]\n",
        "array_1=np.array(list1)\n",
        "array_1"
      ],
      "metadata": {
        "colab": {
          "base_uri": "https://localhost:8080/"
        },
        "id": "JxvOzY1f0slA",
        "outputId": "aa824241-f381-4c7d-830d-16eefa914775"
      },
      "execution_count": 4,
      "outputs": [
        {
          "output_type": "execute_result",
          "data": {
            "text/plain": [
              "array([1, 2, 3, 4])"
            ]
          },
          "metadata": {},
          "execution_count": 4
        }
      ]
    },
    {
      "cell_type": "markdown",
      "source": [
        "LIST2"
      ],
      "metadata": {
        "id": "bwjvuLda0t_-"
      }
    },
    {
      "cell_type": "code",
      "source": [
        "import numpy as np\n",
        "list2=[5,6,7,8]\n",
        "array_2=np.array(list2)\n",
        "array_2"
      ],
      "metadata": {
        "colab": {
          "base_uri": "https://localhost:8080/"
        },
        "id": "FhOUUp-40xGX",
        "outputId": "26f076c4-c2bc-431d-c9b2-6e26f221ef9c"
      },
      "execution_count": 3,
      "outputs": [
        {
          "output_type": "execute_result",
          "data": {
            "text/plain": [
              "array([5, 6, 7, 8])"
            ]
          },
          "metadata": {},
          "execution_count": 3
        }
      ]
    },
    {
      "cell_type": "markdown",
      "source": [
        "TYPE_LIST"
      ],
      "metadata": {
        "id": "nwbvBrCa01u_"
      }
    },
    {
      "cell_type": "code",
      "source": [
        "type(list1)"
      ],
      "metadata": {
        "colab": {
          "base_uri": "https://localhost:8080/"
        },
        "id": "q68ub9_B03wv",
        "outputId": "325dd89a-1261-4df3-89b8-fc5ffe40ec75"
      },
      "execution_count": 5,
      "outputs": [
        {
          "output_type": "execute_result",
          "data": {
            "text/plain": [
              "list"
            ]
          },
          "metadata": {},
          "execution_count": 5
        }
      ]
    },
    {
      "cell_type": "code",
      "source": [
        "type(array_1)"
      ],
      "metadata": {
        "colab": {
          "base_uri": "https://localhost:8080/"
        },
        "id": "3L9dS6MK08oh",
        "outputId": "ea7816e5-eed7-4216-f2e4-adba9bd2a823"
      },
      "execution_count": 6,
      "outputs": [
        {
          "output_type": "execute_result",
          "data": {
            "text/plain": [
              "numpy.ndarray"
            ]
          },
          "metadata": {},
          "execution_count": 6
        }
      ]
    },
    {
      "cell_type": "markdown",
      "source": [
        "MATHEMATICAL OPERATIONS"
      ],
      "metadata": {
        "id": "cTLPvJGo1COp"
      }
    },
    {
      "cell_type": "code",
      "source": [
        "print(\"Multiplication of two arrays:{array_1} and {array_2}\",array_1*array_2)\n",
        "print(\"Division of two arrays:{array_1} and {array_2}\",array_1/array_2)\n",
        "print(\"PowerOff of two arrays:{array_1} and {array_2}\",array_1**array_2)"
      ],
      "metadata": {
        "colab": {
          "base_uri": "https://localhost:8080/"
        },
        "id": "B8_7Cz5h1FMB",
        "outputId": "27b518bf-5cd5-4515-ac65-a94a98d89472"
      },
      "execution_count": 7,
      "outputs": [
        {
          "output_type": "stream",
          "name": "stdout",
          "text": [
            "Multiplication of two arrays:{array_1} and {array_2} [ 5 12 21 32]\n",
            "Division of two arrays:{array_1} and {array_2} [0.2        0.33333333 0.42857143 0.5       ]\n",
            "PowerOff of two arrays:{array_1} and {array_2} [    1    64  2187 65536]\n"
          ]
        }
      ]
    },
    {
      "cell_type": "markdown",
      "source": [
        "ADDITION OF TWO ARRAYS"
      ],
      "metadata": {
        "id": "nNTE6u7f1Jix"
      }
    },
    {
      "cell_type": "code",
      "source": [
        "result=np.add(array_1,array_2)\n",
        "result"
      ],
      "metadata": {
        "colab": {
          "base_uri": "https://localhost:8080/"
        },
        "id": "LSfRbFgz1MCB",
        "outputId": "82f1efff-50f5-4e89-a4b5-6837305ba574"
      },
      "execution_count": 8,
      "outputs": [
        {
          "output_type": "execute_result",
          "data": {
            "text/plain": [
              "array([ 6,  8, 10, 12])"
            ]
          },
          "metadata": {},
          "execution_count": 8
        }
      ]
    },
    {
      "cell_type": "markdown",
      "source": [
        "np.sin()"
      ],
      "metadata": {
        "id": "ngY6Y3Mn1Pkx"
      }
    },
    {
      "cell_type": "code",
      "source": [
        "np.sin(2)"
      ],
      "metadata": {
        "colab": {
          "base_uri": "https://localhost:8080/"
        },
        "id": "Zjiec46m1Q7R",
        "outputId": "6a14fbf4-df4b-4a9b-874c-05dd9e5375a3"
      },
      "execution_count": 9,
      "outputs": [
        {
          "output_type": "execute_result",
          "data": {
            "text/plain": [
              "0.9092974268256817"
            ]
          },
          "metadata": {},
          "execution_count": 9
        }
      ]
    },
    {
      "cell_type": "markdown",
      "source": [
        "np.log()"
      ],
      "metadata": {
        "id": "Qyk_QZya1Twi"
      }
    },
    {
      "cell_type": "code",
      "source": [
        "np.log(3)"
      ],
      "metadata": {
        "colab": {
          "base_uri": "https://localhost:8080/"
        },
        "id": "5UX4IstD1VNp",
        "outputId": "42964523-8c53-45f6-c627-7f2852b01cc2"
      },
      "execution_count": 10,
      "outputs": [
        {
          "output_type": "execute_result",
          "data": {
            "text/plain": [
              "1.0986122886681098"
            ]
          },
          "metadata": {},
          "execution_count": 10
        }
      ]
    },
    {
      "cell_type": "markdown",
      "source": [
        "np.log2()"
      ],
      "metadata": {
        "id": "ykE0TF0u1hMh"
      }
    },
    {
      "cell_type": "code",
      "source": [
        "np.log2(1)"
      ],
      "metadata": {
        "colab": {
          "base_uri": "https://localhost:8080/"
        },
        "id": "4VEF9cPg1jn6",
        "outputId": "b84824f6-3b64-490a-d863-305d52fac72f"
      },
      "execution_count": 11,
      "outputs": [
        {
          "output_type": "execute_result",
          "data": {
            "text/plain": [
              "0.0"
            ]
          },
          "metadata": {},
          "execution_count": 11
        }
      ]
    },
    {
      "cell_type": "markdown",
      "source": [
        "np.exp()"
      ],
      "metadata": {
        "id": "baR8Hfwq1obg"
      }
    },
    {
      "cell_type": "code",
      "source": [
        "np.exp(2)"
      ],
      "metadata": {
        "id": "ID_xIm-d1p-J",
        "outputId": "bc95a2ac-0fe0-4b94-eb6f-9ffc9be25723",
        "colab": {
          "base_uri": "https://localhost:8080/"
        }
      },
      "execution_count": 12,
      "outputs": [
        {
          "output_type": "execute_result",
          "data": {
            "text/plain": [
              "7.38905609893065"
            ]
          },
          "metadata": {},
          "execution_count": 12
        }
      ]
    }
  ]
}