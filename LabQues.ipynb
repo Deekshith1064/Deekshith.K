{
  "nbformat": 4,
  "nbformat_minor": 0,
  "metadata": {
    "colab": {
      "provenance": [],
      "authorship_tag": "ABX9TyMf0/lNwKCLAHwgaThuPhAR",
      "include_colab_link": true
    },
    "kernelspec": {
      "name": "python3",
      "display_name": "Python 3"
    },
    "language_info": {
      "name": "python"
    }
  },
  "cells": [
    {
      "cell_type": "markdown",
      "metadata": {
        "id": "view-in-github",
        "colab_type": "text"
      },
      "source": [
        "<a href=\"https://colab.research.google.com/github/Deekshith1064/Deekshith.K/blob/main/LabQues.ipynb\" target=\"_parent\"><img src=\"https://colab.research.google.com/assets/colab-badge.svg\" alt=\"Open In Colab\"/></a>"
      ]
    },
    {
      "cell_type": "code",
      "execution_count": 4,
      "metadata": {
        "colab": {
          "base_uri": "https://localhost:8080/"
        },
        "id": "WSltTXDia3kf",
        "outputId": "30caf678-1d21-4d2d-cd2c-f2919033d008"
      },
      "outputs": [
        {
          "output_type": "stream",
          "name": "stdout",
          "text": [
            "Naive Bayes Classifier Accuracy: 0.65\n"
          ]
        }
      ],
      "source": [
        "# Import necessary libraries\n",
        "import openml\n",
        "from sklearn.model_selection import train_test_split\n",
        "from sklearn.naive_bayes import GaussianNB\n",
        "from sklearn.metrics import accuracy_score\n",
        "from sklearn.preprocessing import LabelEncoder\n",
        "\n",
        "# Load the car dataset from OpenML\n",
        "dataset = openml.datasets.get_dataset(21)  # OpenML ID for the car dataset\n",
        "X, y, _, _ = dataset.get_data(target=dataset.default_target_attribute)\n",
        "\n",
        "# Preprocess: Encode categorical variables if necessary\n",
        "# Using LabelEncoder to convert categorical data to numerical\n",
        "X = X.apply(LabelEncoder().fit_transform)\n",
        "y = LabelEncoder().fit_transform(y)\n",
        "\n",
        "# Split the data into training and testing sets\n",
        "X_train, X_test, y_train, y_test = train_test_split(X, y, test_size=0.3, random_state=42)\n",
        "\n",
        "# Initialize and train the Naive Bayes classifier\n",
        "nb_classifier = GaussianNB()\n",
        "nb_classifier.fit(X_train, y_train)\n",
        "\n",
        "# Make predictions on the test set\n",
        "y_pred = nb_classifier.predict(X_test)\n",
        "\n",
        "# Calculate accuracy\n",
        "accuracy = accuracy_score(y_test, y_pred)\n",
        "print(f\"Naive Bayes Classifier Accuracy: {accuracy:.2f}\")"
      ]
    }
  ]
}